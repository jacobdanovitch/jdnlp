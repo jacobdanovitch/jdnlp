{
 "cells": [
  {
   "cell_type": "code",
   "execution_count": 1,
   "metadata": {
    "scrolled": true
   },
   "outputs": [
    {
     "name": "stderr",
     "output_type": "stream",
     "text": [
      "I1210 00:37:33.716948 140023640765824 file_utils.py:32] TensorFlow version 2.0.0 available.\n",
      "I1210 00:37:33.718059 140023640765824 file_utils.py:39] PyTorch version 1.2.0 available.\n",
      "I1210 00:37:33.736094 140023640765824 modeling_xlnet.py:194] Better speed can be achieved with apex installed from https://www.github.com/nvidia/apex .\n",
      "I1210 00:37:33.804893 140023640765824 registrable.py:73] instantiating registered subclass relu of <class 'allennlp.nn.activations.Activation'>\n",
      "I1210 00:37:33.806254 140023640765824 registrable.py:73] instantiating registered subclass relu of <class 'allennlp.nn.activations.Activation'>\n",
      "I1210 00:37:33.807512 140023640765824 registrable.py:73] instantiating registered subclass relu of <class 'allennlp.nn.activations.Activation'>\n",
      "I1210 00:37:33.809004 140023640765824 registrable.py:73] instantiating registered subclass relu of <class 'allennlp.nn.activations.Activation'>\n"
     ]
    }
   ],
   "source": [
    "from attn_heatmaps import *\n",
    "\n",
    "import sys\n",
    "sys.path.insert(0, '..')\n",
    "\n",
    "%matplotlib inline\n",
    "\n",
    "import seaborn as sns\n",
    "import matplotlib.pyplot as plt\n",
    "\n",
    "from IPython.utils import io\n",
    "import re\n",
    "\n",
    "import pandas as pd\n",
    "\n",
    "from allennlp.common.util import import_submodules\n",
    "from allennlp.predictors import Predictor\n",
    "from allennlp.data.tokenizers import WordTokenizer\n",
    "\n",
    "import torch\n",
    "import torch.nn as nn\n",
    "from torch._tensor_str import set_printoptions \n",
    "\n",
    "set_printoptions(sci_mode=False)\n",
    "import_submodules('jdnlp')\n",
    "\n",
    "_tokenizer = WordTokenizer().tokenize"
   ]
  },
  {
   "cell_type": "code",
   "execution_count": 90,
   "metadata": {
    "scrolled": true
   },
   "outputs": [
    {
     "data": {
      "text/html": [
       "<div>\n",
       "<style scoped>\n",
       "    .dataframe tbody tr th:only-of-type {\n",
       "        vertical-align: middle;\n",
       "    }\n",
       "\n",
       "    .dataframe tbody tr th {\n",
       "        vertical-align: top;\n",
       "    }\n",
       "\n",
       "    .dataframe thead th {\n",
       "        text-align: right;\n",
       "    }\n",
       "</style>\n",
       "<table border=\"1\" class=\"dataframe\">\n",
       "  <thead>\n",
       "    <tr style=\"text-align: right;\">\n",
       "      <th></th>\n",
       "      <th>label</th>\n",
       "      <th>text</th>\n",
       "      <th>length</th>\n",
       "    </tr>\n",
       "  </thead>\n",
       "  <tbody>\n",
       "    <tr>\n",
       "      <th>0</th>\n",
       "      <td>sarc</td>\n",
       "      <td>[As do you., What, to be \"open-minded?\" or to ...</td>\n",
       "      <td>14</td>\n",
       "    </tr>\n",
       "    <tr>\n",
       "      <th>1</th>\n",
       "      <td>sarc</td>\n",
       "      <td>[this is the omega word, And you're a poor rep...</td>\n",
       "      <td>15</td>\n",
       "    </tr>\n",
       "    <tr>\n",
       "      <th>2</th>\n",
       "      <td>sarc</td>\n",
       "      <td>[Anyone not currently in prison., Including th...</td>\n",
       "      <td>16</td>\n",
       "    </tr>\n",
       "    <tr>\n",
       "      <th>3</th>\n",
       "      <td>sarc</td>\n",
       "      <td>[What's the difference between humans and chim...</td>\n",
       "      <td>17</td>\n",
       "    </tr>\n",
       "    <tr>\n",
       "      <th>4</th>\n",
       "      <td>sarc</td>\n",
       "      <td>[Don't quit your day job., Oh damn it...and I ...</td>\n",
       "      <td>17</td>\n",
       "    </tr>\n",
       "    <tr>\n",
       "      <th>5</th>\n",
       "      <td>sarc</td>\n",
       "      <td>[Interesting. The Creationists are evading thi...</td>\n",
       "      <td>19</td>\n",
       "    </tr>\n",
       "    <tr>\n",
       "      <th>6</th>\n",
       "      <td>sarc</td>\n",
       "      <td>[And what exactly is a \"God-fearing athiest\" a...</td>\n",
       "      <td>20</td>\n",
       "    </tr>\n",
       "    <tr>\n",
       "      <th>7</th>\n",
       "      <td>sarc</td>\n",
       "      <td>[it's the other way around:, So you are saying...</td>\n",
       "      <td>20</td>\n",
       "    </tr>\n",
       "    <tr>\n",
       "      <th>8</th>\n",
       "      <td>sarc</td>\n",
       "      <td>[Incredibly enough, ignoring my rebuttal doesn...</td>\n",
       "      <td>20</td>\n",
       "    </tr>\n",
       "    <tr>\n",
       "      <th>9</th>\n",
       "      <td>sarc</td>\n",
       "      <td>[But genetics has nothing to do with it., So y...</td>\n",
       "      <td>20</td>\n",
       "    </tr>\n",
       "    <tr>\n",
       "      <th>10</th>\n",
       "      <td>sarc</td>\n",
       "      <td>[Cybererratus, is Gary Ridgway something of a ...</td>\n",
       "      <td>20</td>\n",
       "    </tr>\n",
       "    <tr>\n",
       "      <th>11</th>\n",
       "      <td>sarc</td>\n",
       "      <td>[This is one of the totally awesome ones:http:...</td>\n",
       "      <td>21</td>\n",
       "    </tr>\n",
       "    <tr>\n",
       "      <th>12</th>\n",
       "      <td>sarc</td>\n",
       "      <td>[at least not the kind you chance-worshiping e...</td>\n",
       "      <td>21</td>\n",
       "    </tr>\n",
       "    <tr>\n",
       "      <th>13</th>\n",
       "      <td>sarc</td>\n",
       "      <td>[I thought their reasoning was quite bizzare.,...</td>\n",
       "      <td>21</td>\n",
       "    </tr>\n",
       "    <tr>\n",
       "      <th>14</th>\n",
       "      <td>sarc</td>\n",
       "      <td>[What? Women are being forced into having sex?...</td>\n",
       "      <td>21</td>\n",
       "    </tr>\n",
       "    <tr>\n",
       "      <th>15</th>\n",
       "      <td>sarc</td>\n",
       "      <td>[I guess this is why Texas is knee-deep in tur...</td>\n",
       "      <td>22</td>\n",
       "    </tr>\n",
       "    <tr>\n",
       "      <th>16</th>\n",
       "      <td>sarc</td>\n",
       "      <td>[Naturally, one can only observe what exists i...</td>\n",
       "      <td>22</td>\n",
       "    </tr>\n",
       "    <tr>\n",
       "      <th>17</th>\n",
       "      <td>sarc</td>\n",
       "      <td>[Left wing media? Left wing Congress?You've be...</td>\n",
       "      <td>22</td>\n",
       "    </tr>\n",
       "    <tr>\n",
       "      <th>18</th>\n",
       "      <td>sarc</td>\n",
       "      <td>[You forgot marry their dogs., You don't see p...</td>\n",
       "      <td>22</td>\n",
       "    </tr>\n",
       "    <tr>\n",
       "      <th>19</th>\n",
       "      <td>sarc</td>\n",
       "      <td>[Another dimwitted white guy who lu-u-u-u-u-u-...</td>\n",
       "      <td>23</td>\n",
       "    </tr>\n",
       "  </tbody>\n",
       "</table>\n",
       "</div>"
      ],
      "text/plain": [
       "   label                                               text  length\n",
       "0   sarc  [As do you., What, to be \"open-minded?\" or to ...      14\n",
       "1   sarc  [this is the omega word, And you're a poor rep...      15\n",
       "2   sarc  [Anyone not currently in prison., Including th...      16\n",
       "3   sarc  [What's the difference between humans and chim...      17\n",
       "4   sarc  [Don't quit your day job., Oh damn it...and I ...      17\n",
       "5   sarc  [Interesting. The Creationists are evading thi...      19\n",
       "6   sarc  [And what exactly is a \"God-fearing athiest\" a...      20\n",
       "7   sarc  [it's the other way around:, So you are saying...      20\n",
       "8   sarc  [Incredibly enough, ignoring my rebuttal doesn...      20\n",
       "9   sarc  [But genetics has nothing to do with it., So y...      20\n",
       "10  sarc  [Cybererratus, is Gary Ridgway something of a ...      20\n",
       "11  sarc  [This is one of the totally awesome ones:http:...      21\n",
       "12  sarc  [at least not the kind you chance-worshiping e...      21\n",
       "13  sarc  [I thought their reasoning was quite bizzare.,...      21\n",
       "14  sarc  [What? Women are being forced into having sex?...      21\n",
       "15  sarc  [I guess this is why Texas is knee-deep in tur...      22\n",
       "16  sarc  [Naturally, one can only observe what exists i...      22\n",
       "17  sarc  [Left wing media? Left wing Congress?You've be...      22\n",
       "18  sarc  [You forgot marry their dogs., You don't see p...      22\n",
       "19  sarc  [Another dimwitted white guy who lu-u-u-u-u-u-...      23"
      ]
     },
     "execution_count": 90,
     "metadata": {},
     "output_type": "execute_result"
    }
   ],
   "source": [
    "df = pd.read_json(\"../datasets/iac2/train.jsonl\", lines=True).query(\"label == 'sarc'\")\n",
    "df['length'] = df.text.apply(lambda x: len(' '.join(x).split(' ')))\n",
    "\n",
    "df = df.sort_values(by='length').reset_index(drop=True)\n",
    "df.head(20)"
   ]
  },
  {
   "cell_type": "code",
   "execution_count": 3,
   "metadata": {
    "scrolled": true
   },
   "outputs": [],
   "source": [
    "def load_model():\n",
    "    model = Predictor.from_path(\"../saved/remembert/sarc/model.tar.gz\", predictor_name=\"text_classifier\", cuda_device=0)\n",
    "    mac = model._model\n",
    "\n",
    "    read_unit = mac.mac.read\n",
    "    ctrl_unit = mac.mac.control\n",
    "    \n",
    "    return model, mac, read_unit, ctrl_unit\n",
    "\n",
    "# model, mac, read_unit, ctrl_unit = load_model()"
   ]
  },
  {
   "cell_type": "code",
   "execution_count": 20,
   "metadata": {},
   "outputs": [
    {
     "name": "stdout",
     "output_type": "stream",
     "text": [
      "[array([0.98333333, 0.91666667, 0.91666667, 1.        ]), array([0.95300654, 0.86542484, 0.86542484, 1.        ]), array([0.92267974, 0.81418301, 0.81418301, 1.        ]), array([0.89235294, 0.76294118, 0.76294118, 1.        ]), array([0.86202614, 0.71169935, 0.71169935, 1.        ]), array([0.83169935, 0.66045752, 0.66045752, 1.        ]), array([0.80137255, 0.60921569, 0.60921569, 1.        ]), array([0.77104575, 0.55797386, 0.55797386, 1.        ]), array([0.74071895, 0.50673203, 0.50673203, 1.        ]), array([0.71039216, 0.4554902 , 0.4554902 , 1.        ]), array([0.68006536, 0.40424837, 0.40424837, 1.        ]), array([0.64973856, 0.35300654, 0.35300654, 1.        ]), array([0.61941176, 0.30176471, 0.30176471, 1.        ]), array([0.58908497, 0.25052288, 0.25052288, 1.        ]), array([0.55875817, 0.19928105, 0.19928105, 1.        ]), array([0.52843137, 0.14803922, 0.14803922, 1.        ]), array([0.5, 0.1, 0.1, 1. ])]\n"
     ]
    }
   ],
   "source": [
    "# pal = sns.choose_light_palette(input='rgb')#, as_cmap=True)\n",
    "pal = [\n",
    "    np.array([0.98333333, 0.91666667, 0.91666667, 1.        ]),\n",
    "     np.array([0.95300654, 0.86542484, 0.86542484, 1.        ]),\n",
    "     np.array([0.92267974, 0.81418301, 0.81418301, 1.        ]),\n",
    "     np.array([0.89235294, 0.76294118, 0.76294118, 1.        ]),\n",
    "     np.array([0.86202614, 0.71169935, 0.71169935, 1.        ]),\n",
    "     np.array([0.83169935, 0.66045752, 0.66045752, 1.        ]),\n",
    "     np.array([0.80137255, 0.60921569, 0.60921569, 1.        ]),\n",
    "     np.array([0.77104575, 0.55797386, 0.55797386, 1.        ]),\n",
    "     np.array([0.74071895, 0.50673203, 0.50673203, 1.        ]),\n",
    "     np.array([0.71039216, 0.4554902 , 0.4554902 , 1.        ]),\n",
    "     np.array([0.68006536, 0.40424837, 0.40424837, 1.        ]),\n",
    "     np.array([0.64973856, 0.35300654, 0.35300654, 1.        ]),\n",
    "     np.array([0.61941176, 0.30176471, 0.30176471, 1.        ]),\n",
    "     np.array([0.58908497, 0.25052288, 0.25052288, 1.        ]),\n",
    "     np.array([0.55875817, 0.19928105, 0.19928105, 1.        ]),\n",
    "     np.array([0.52843137, 0.14803922, 0.14803922, 1.        ]),\n",
    " np.array([0.5, 0.1, 0.1, 1. ])\n",
    "]\n",
    "\n",
    "pal = sns.light_palette(\"navy\")"
   ]
  },
  {
   "cell_type": "code",
   "execution_count": 77,
   "metadata": {},
   "outputs": [
    {
     "name": "stdout",
     "output_type": "stream",
     "text": [
      "26 http://www.bloomberg.com/apps/news?p...d=awia81URdshwWho the hell is he to say the love between my partner and I of 8 years is weak?! It's stronger than many heterosexual couples.\n",
      "\n",
      "Well if you are Catholic you would should probably find him pretty credible.\n",
      "\n",
      "---\n",
      "\n",
      "27 creationism is a joke dependent on an unproven god. evolution literally happens. it's fact. get over it\n",
      "\n",
      "wow, lets all clap for that great argument for evolutionism. personally, i'm not sure why this is being brought up again.\n",
      "\n",
      "---\n",
      "\n",
      "28 And you dare point out my shortcomings? Please. You betta proofread your posts before sending them to me, because I will call you on it.\n",
      "\n",
      "Neat my very own living spell check I can't wait to see well it works.\n",
      "\n",
      "---\n",
      "\n",
      "29 I see you ARE shooting yourself in the foot. Ok. Your progatative.\n",
      "\n",
      "The riddles continue? emoticonXConfused Wouldn't it have taken less time and have been less ambiguous if you or Dr Spock just posted the # of the post?emoticonXRolleyes emoticonXRolleyes\n",
      "\n",
      "---\n",
      "\n",
      "30 if they are a very small minority, what's the problem?\n",
      "\n",
      "what kind of question is that? we can't have true freedom until dissenters have been hunted down and killed, or tossed into th gulag...er, i mean, prison, for demonstrating their dissent.\n",
      "\n",
      "---\n",
      "\n",
      "31 No...this kills a kid....I don't see why anything would trump the right to live.\n",
      "\n",
      "If I ever need a kidney to live, I know who to tell them to harvest from... whether or not you agree to it :P  \n",
      "\n",
      "---\n",
      "\n",
      "32 They can.But, there's something scary to me about a huge segment of society who literally believes in something that has been proven to be inaccurate.\n",
      "\n",
      "I would be scared about a huge segment of society that considers me a clever ape.\n",
      "\n",
      "---\n",
      "\n",
      "33 So we should just completly screw them over, and let everything we have faught for go down in vain?\n",
      "\n",
      "You already screwed them over when you decided to cover their country in radioactive dust. Depleted uranium is a real bitch.  \n",
      "\n",
      "---\n",
      "\n",
      "34 And LIVING ones even more... ok Adolph.\n",
      "\n",
      "You just had to bring Godwin into didn't you. >_>   Besides what good is a corpse? Nevermind you're never going to understand my logic so I might as well not waste the time.\n",
      "\n",
      "---\n",
      "\n",
      "35 watch it. Now you're using my lines. Poet has always been an easy target, I will agree. ;)\n",
      "\n",
      "More chattering from the peanut gallery? Haven't gotten the memo, you're no longer a player? Honestly....clamoring for attention is so low budget. No shame.\n",
      "\n",
      "---\n",
      "\n",
      "36 People have been trying for centuries. It's hard to diss the truth. Jesus is Lord!\n",
      "\n",
      "It's also hard to convince a rational person that something is so if there is zero evidence of its truth, but then you wouldn't have any clue about that.\n",
      "\n",
      "---\n",
      "\n",
      "37 I wouldn't want to make my daughter do anything in this scenario. I'd be careful to explain all her options as free from bias as possible, and then let her choose.\n",
      "\n",
      "Me, too. I'd probably throw in some counseling as well, just for starters.\n",
      "\n",
      "---\n",
      "\n",
      "38 nd so strongly, at least this proves that I'm right about the porn hammering. emoticonXGood\n",
      "\n",
      "That was someone else you were posting to about them \"hammering\" porn, whatever that means.Gay men watch hetero porn and thats the reason for so much gayness? Real logical.\n",
      "\n",
      "---\n",
      "\n",
      "39 The Missoula lakes megafloods would pale by comparison.\n",
      "\n",
      "As you both also ignore the fact that it was TQ who first posted in the largest red bolded font possible. But hey, since when do you children care about facts or truth. emoticonXRolleyes  \n",
      "\n",
      "---\n",
      "\n",
      "40 Good way to prove exactly what I am talking about christianists and these dominionists in particular want to oppress gay people.\n",
      "\n",
      "Poor little poopie.   If your gay sex agenda wasn't of the devil himself you might be better received in the world.\n",
      "\n",
      "---\n",
      "\n",
      "41 Ftpaaaagh! Clive! 'Twas the other way around. For 'twas us Vikings who gave you Brits all your culture. I am sharpening my double-headed axe as I post this. emoticonXMad\n",
      "\n",
      "Two Vikings on one board? Time to beat a hasty retreat before I'm pillaged emoticonXChicken\n",
      "\n",
      "---\n",
      "\n",
      "42 Everything that happend in the universe happens according to \"laws.\"\n",
      "\n",
      "Do you have to work at becoming so scientifically illiterate? What ever happened to the creationist chant about evolution being a product of pure chance? You seem to chant all of the other creationist tripe.\n",
      "\n",
      "---\n",
      "\n",
      "43 What part of school biology needs evolution to make sense? taking out evolution is not like taking out algebra and equations of curves out of mathematics and still teaching calculus.\n",
      "\n",
      "So then I guess you could also debate that algebra serves no purpose as well.\n",
      "\n",
      "---\n",
      "\n",
      "44 Everything that happend in the universe happens according to \"laws.\"\n",
      "\n",
      "Do you have to work at becoming so scientifically illiterate? What ever happened to the creationist chant about evolution being a product of pure chance? You seem to chant all of the other creationist tripe.\n",
      "\n",
      "---\n",
      "\n",
      "45 my State is going to heII in a handbasket since these lefties took over. emoticonXBanghead\n",
      "\n",
      "Well since Bush took office the mantra has bee \"Local Control\" has it not. Apparently the people of your state want whats happening. Local control in action. Rejoice in your victory.\n",
      "\n",
      "---\n",
      "\n",
      "46 Yes, we've signed it, how about you?How about Iraq for not \"respecting national autonomy\"? People died for that one\n",
      "\n",
      "How about not clicking the \"reply \" button twice (heh,heh,) No, we didn't (Thank goodness) AND! PM Blair is recanting from the Kyoto protocol. Bully for him!\n",
      "\n",
      "---\n",
      "\n",
      "47 No church has to marry any couple if they do not wish to do so.\n",
      "\n",
      "But apparently they can't say no to renting the property for a gay wedding, even if they decide to just say 'no' to everyone and get out of business. go figure\n",
      "\n",
      "---\n",
      "\n",
      "48 your passive agressive thing is so childish. If you want to come debate with the grown ups try be one!\n",
      "\n",
      "NONONONONONONO! I wasn't talking about you JoeBrummer I was talking about aNaCaLaGoN! Don't worry I try not to pick on people who don't like it!Right Sinjin?\n",
      "\n",
      "---\n",
      "\n",
      "49 Lately, I'd argue that the Court doesn't know the law. How else can you explain some of the more recent controversial decisions. emoticonXRolleyes\n",
      "\n",
      "You mean the Conservative tilting Supremes donot know the law ? You want to tell them that ? emoticonXChicken emoticonXChicken emoticonXChicken emoticonXChicken emoticonXChicken\n",
      "\n",
      "---\n",
      "\n",
      "50 Yeah, right. I'm not going to take that statistic seriously. It doesn't agree with the study done by the Violence Policy Center.\n",
      "\n",
      "The VPC has a political agenda. The FBI? That is like saying I believe Coke taste better than Pepsi because the Coke commericial says so.\n",
      "\n",
      "---\n",
      "\n"
     ]
    }
   ],
   "source": [
    "start = 25 # 150\n",
    "for i,t in enumerate(df.text.values[start+1:start+26], start+1):\n",
    "    print(i, '\\n\\n'.join(t))\n",
    "    print('\\n---\\n')"
   ]
  },
  {
   "cell_type": "code",
   "execution_count": 169,
   "metadata": {
    "scrolled": false
   },
   "outputs": [
    {
     "data": {
      "image/png": "[encoded data removed]",
      "text/plain": [
       "<Figure size 360x360 with 2 Axes>"
      ]
     },
     "metadata": {
      "needs_background": "light"
     },
     "output_type": "display_data"
    }
   ],
   "source": [
    "with io.capture_output() as captured:\n",
    "    import_submodules('jdnlp')\n",
    "    model, mac, read_unit, ctrl_unit = load_model()\n",
    "\n",
    "i = 82 # 82, 150, 173 # train\n",
    "# i = # 43 # test\n",
    "txt = list(map(lambda x: re.sub(r'[\\\"\\/\\',.?!]', ' ', x), df.text[i]))\n",
    "\n",
    "model.predict_batch_json([{\"sentence\": txt}, {\"sentence\": txt}])\n",
    "parent, comment = map(_tokenizer, txt)\n",
    "\n",
    "# step size x words\n",
    "ctrl_attn = unwrap_tensor(torch.stack(ctrl_unit.saved_attn, axis=0)[:, 0, :len(comment)].squeeze(-1))\n",
    "read_attn = unwrap_tensor(torch.stack(read_unit.saved_attn, axis=0)[:, 0, :len(parent)].squeeze(-1))\n",
    "\n",
    "fig, axes = plt.subplots(ncols=2, figsize=(5,5)) # 3,15\n",
    "fig.subplots_adjust(left=0.3, wspace=2.25)\n",
    "\n",
    "pal = sns.light_palette(\"navy\", n_colors=3)\n",
    "\n",
    "hm_c = sns.heatmap(ctrl_attn.T, cmap=pal, cbar=False, ax=axes[0]) \n",
    "hm_c.set_yticklabels(comment, rotation=(360))\n",
    "hm_c.set_xticklabels([1,2])\n",
    "# hm_c.set_title('Comment')\n",
    "\n",
    "hm_r = sns.heatmap(read_attn.T, cmap=pal, cbar=False, ax=axes[1])\n",
    "hm_r.set_yticklabels(parent, rotation=(360))\n",
    "hm_r.set_xticklabels([1,2])\n",
    "# hm_r.set_title('Reply')\n",
    "\n",
    "plt.savefig('acl2020_attn.pdf', bbox_inches = \"tight\")\n",
    "plt.show()"
   ]
  },
  {
   "cell_type": "code",
   "execution_count": 118,
   "metadata": {},
   "outputs": [
    {
     "data": {
      "text/plain": [
       "[array([0.9, 0.9, 1. , 1. ]),\n",
       " array([0.81882353, 0.81882353, 0.95507882, 1.        ]),\n",
       " array([0.73764706, 0.73764706, 0.91015763, 1.        ]),\n",
       " array([0.65647059, 0.65647059, 0.86523645, 1.        ]),\n",
       " array([0.57176471, 0.57176471, 0.81836217, 1.        ]),\n",
       " array([0.49058824, 0.49058824, 0.77344098, 1.        ]),\n",
       " array([0.40941176, 0.40941176, 0.7285198 , 1.        ]),\n",
       " array([0.32823529, 0.32823529, 0.68359862, 1.        ]),\n",
       " array([0.24352941, 0.24352941, 0.63672434, 1.        ])]"
      ]
     },
     "execution_count": 118,
     "metadata": {},
     "output_type": "execute_result"
    }
   ],
   "source": [
    "pal[:-3]"
   ]
  },
  {
   "cell_type": "code",
   "execution_count": 94,
   "metadata": {},
   "outputs": [
    {
     "data": {
      "text/plain": [
       "['We re all quite impressed with your knowledge of third grade insults  unfortunately  this is not debate ',\n",
       " 'Thank You  You know how much I love to impress people ']"
      ]
     },
     "execution_count": 94,
     "metadata": {},
     "output_type": "execute_result"
    }
   ],
   "source": [
    "txt"
   ]
  },
  {
   "cell_type": "code",
   "execution_count": 45,
   "metadata": {},
   "outputs": [
    {
     "data": {
      "text/plain": [
       "1.0"
      ]
     },
     "execution_count": 45,
     "metadata": {},
     "output_type": "execute_result"
    }
   ],
   "source": [
    "read_attn[0].sum()"
   ]
  },
  {
   "cell_type": "code",
   "execution_count": 51,
   "metadata": {},
   "outputs": [
    {
     "data": {
      "text/plain": [
       "{'tokens': tensor([[[  83,  200,  475,  154,   37, 1977,    9,  823,   37, 4930,    9,\n",
       "            668,   11,  312,   73, 5718,   11,  510],\n",
       "          [  38,   30,    8,   17,   16, 3631,   73,    8,  197,   22,  510,\n",
       "              0,    0,    0,    0,    0,    0,    0]],\n",
       " \n",
       "         [[  83,  200,  475,  154,   37, 1977,    9,  823,   37, 4930,    9,\n",
       "            668,   11,  312,   73, 5718,   11,  510],\n",
       "          [  38,   30,    8,   17,   16, 3631,   73,    8,  197,   22,  510,\n",
       "              0,    0,    0,    0,    0,    0,    0]]], device='cuda:0')}"
      ]
     },
     "execution_count": 51,
     "metadata": {},
     "output_type": "execute_result"
    }
   ],
   "source": [
    "mac.saved_inp"
   ]
  },
  {
   "cell_type": "code",
   "execution_count": 9,
   "metadata": {},
   "outputs": [],
   "source": [
    "import entmax\n",
    "import torch"
   ]
  },
  {
   "cell_type": "code",
   "execution_count": 22,
   "metadata": {},
   "outputs": [
    {
     "data": {
      "text/plain": [
       "tensor([0.0000, 0.0991, 0.1548, 0.0000, 0.1845, 0.0537, 0.0083, 0.0000, 0.0000,\n",
       "        0.3966, 0.0000, 0.0000, 0.0000, 0.0462, 0.0000, 0.0495, 0.0000, 0.0068,\n",
       "        0.0000, 0.0004])"
      ]
     },
     "execution_count": 22,
     "metadata": {},
     "output_type": "execute_result"
    }
   ],
   "source": [
    "entmax.entmax15(torch.randn(20))"
   ]
  },
  {
   "cell_type": "code",
   "execution_count": 56,
   "metadata": {
    "scrolled": true
   },
   "outputs": [
    {
     "data": {
      "image/png": "[encoded data removed]",
      "text/plain": [
       "<Figure size 720x720 with 1 Axes>"
      ]
     },
     "metadata": {
      "needs_background": "light"
     },
     "output_type": "display_data"
    }
   ],
   "source": [
    "fig, ax = plt.subplots(figsize=(10,10))\n",
    "\n",
    "ctrl_attn = np.array(unwrap_tensor(torch.stack(ctrl_unit.saved_attn, axis=0)[:, 0, :len(comment)].squeeze()))\n",
    "read_attn = np.array(unwrap_tensor(torch.stack(read_unit.saved_attn, axis=0)[:, 0, :len(parent)]))\n",
    "w = rescale(np.concatenate([read_attn, ctrl_attn], axis=1)).T\n",
    "\n",
    "# pal = sns.color_palette(\"coolwarm\", 15)# sns.light_palette(\"navy\")\n",
    "\n",
    "hm = sns.heatmap(w, cmap=pal, cbar=False)\n",
    "hm.set_yticklabels(parent + comment, rotation=(360))\n",
    "plt.show()"
   ]
  },
  {
   "cell_type": "code",
   "execution_count": 85,
   "metadata": {},
   "outputs": [
    {
     "name": "stdout",
     "output_type": "stream",
     "text": [
      "0.0588438  0.0914803  0.0729389  0.0436123  0.0563162  0.0304176  0.0588469  0.0711222  0.0634906  0.0197943  0.0644928   0.0139861  0.0554547  0.0342743  0.0214202  0.0662683  0.0565491  0.0073832     0.0259  0.0874079  \n",
      "0.0514709  0.0910281  0.0738069  0.0325994   0.054199  0.0265454  0.0658912  0.0721207  0.0704513  0.0153179  0.0623263  0.00347087  0.0567221  0.0469491   0.022593  0.0756779  0.0744722          0  0.0189663  0.0853915  \n",
      "0.0533743  0.0848151  0.0756481  0.0362991   0.061525  0.0276153  0.0613521  0.0774768  0.0661729  0.0181424  0.0606014   0.0105308   0.052683  0.0422414  0.0279822  0.0738529  0.0665794          0  0.0238426   0.079265  \n",
      "0.0542284  0.0838495  0.0753005  0.0402832  0.0611968  0.0269509  0.0598526  0.0785502  0.0655081  0.0232971  0.0609443   0.0113894  0.0490842  0.0401328  0.0297968  0.0717535  0.0643568          0  0.0218706  0.0816542  \n"
     ]
    }
   ],
   "source": [
    "matprint(read_attn)"
   ]
  },
  {
   "cell_type": "code",
   "execution_count": 111,
   "metadata": {},
   "outputs": [
    {
     "data": {
      "text/plain": [
       "(65, 65)"
      ]
     },
     "execution_count": 111,
     "metadata": {},
     "output_type": "execute_result"
    }
   ],
   "source": [
    "len(texts), len(w[:, 0])"
   ]
  },
  {
   "cell_type": "code",
   "execution_count": 108,
   "metadata": {},
   "outputs": [
    {
     "data": {
      "text/plain": [
       "(65, 4)"
      ]
     },
     "execution_count": 108,
     "metadata": {},
     "output_type": "execute_result"
    }
   ],
   "source": [
    "w.shape"
   ]
  },
  {
   "cell_type": "code",
   "execution_count": 120,
   "metadata": {},
   "outputs": [
    {
     "data": {
      "text/plain": [
       "False"
      ]
     },
     "execution_count": 120,
     "metadata": {},
     "output_type": "execute_result"
    }
   ],
   "source": [
    "len(texts) < len(attns)"
   ]
  },
  {
   "cell_type": "code",
   "execution_count": 124,
   "metadata": {},
   "outputs": [
    {
     "data": {
      "text/plain": [
       "(37,)"
      ]
     },
     "execution_count": 124,
     "metadata": {},
     "output_type": "execute_result"
    }
   ],
   "source": []
  },
  {
   "cell_type": "code",
   "execution_count": 125,
   "metadata": {
    "scrolled": true
   },
   "outputs": [
    {
     "name": "stdout",
     "output_type": "stream",
     "text": [
      "\\documentclass[varwidth]{standalone}\r\n",
      "    \\special{papersize=210mm,297mm}\r\n",
      "    \\usepackage{color}\r\n",
      "    \\usepackage{tcolorbox}\r\n",
      "    \\usepackage{CJK}\r\n",
      "    \\usepackage{adjustbox}\r\n",
      "    \\tcbset{width=0.9\\textwidth,boxrule=0pt,colback=red,arc=0pt,auto outer arc,left=0pt,right=0pt,boxsep=5pt}\r\n",
      "    \\begin{document}\r\n",
      "\\begin{CJK*}{UTF8}{gbsn}{\\setlength{\\fboxsep}{0pt}\\colorbox{white!0}{\\parbox{0.9\\textwidth}{\\colorbox{blue!79.69361}{\\strut What} \\colorbox{blue!8.501517}{\\strut are} \\colorbox{blue!69.084045}{\\strut \"} \\colorbox{blue!13.0092535}{\\strut women} \\colorbox{blue!86.46831}{\\strut 's} \\colorbox{blue!21.351526}{\\strut rights} \\colorbox{blue!54.870766}{\\strut \"} \\colorbox{blue!80.875015}{\\strut ?} \\colorbox{blue!19.707031}{\\strut They} \\colorbox{blue!0.0}{\\strut special} \\colorbox{blue!0.0}{\\strut too} \\colorbox{blue!35.792297}{\\strut ?} \\colorbox{blue!5.3356605}{\\strut Now} \\colorbox{blue!100.0}{\\strut think} \\colorbox{blue!66.8674}{\\strut \"} \\colorbox{blue!23.015064}{\\strut women} \\colorbox{blue!0.0}{\\strut 's} \\colorbox{blue!74.27849}{\\strut rights} \\colorbox{blue!33.71151}{\\strut \"} \\colorbox{blue!87.18903}{\\strut but} \\colorbox{blue!77.29171}{\\strut pretend} \\colorbox{blue!84.20761}{\\strut you} \\colorbox{blue!40.84392}{\\strut really} \\colorbox{blue!87.615074}{\\strut do} \\colorbox{blue!0.0}{\\strut n't} \\colorbox{blue!27.664753}{\\strut like} \\colorbox{blue!0.0}{\\strut women} \\colorbox{blue!0.0}{\\strut ,} \\colorbox{blue!98.579445}{\\strut assuming} \\colorbox{blue!52.21694}{\\strut you} \\colorbox{blue!54.017715}{\\strut need} \\colorbox{blue!69.260635}{\\strut to} \\colorbox{blue!62.676067}{\\strut pretend} \\colorbox{blue!62.65586}{\\strut .} \\colorbox{blue!0.0}{\\strut Same} \\colorbox{blue!84.16622}{\\strut thing} \\colorbox{blue!0.0}{\\strut .} \r\n",
      "}}}\r\n",
      "\\end{CJK*}\\begin{CJK*}{UTF8}{gbsn}{\\setlength{\\fboxsep}{0pt}\\colorbox{white!0}{\\parbox{0.9\\textwidth}{\\colorbox{red!79.69361}{\\strut I} \\colorbox{red!8.501517}{\\strut have} \\colorbox{red!69.084045}{\\strut no} \\colorbox{red!13.0092535}{\\strut idea} \\colorbox{red!86.46831}{\\strut what} \\colorbox{red!21.351526}{\\strut \"} \\colorbox{red!54.870766}{\\strut women} \\colorbox{red!80.875015}{\\strut 's} \\colorbox{red!19.707031}{\\strut rights} \\colorbox{red!0.0}{\\strut \"} \\colorbox{red!0.0}{\\strut might} \\colorbox{red!35.792297}{\\strut be} \\colorbox{red!5.3356605}{\\strut either} \\colorbox{red!100.0}{\\strut .} \\colorbox{red!66.8674}{\\strut You} \\colorbox{red!23.015064}{\\strut could} \\colorbox{red!0.0}{\\strut try} \\colorbox{red!74.27849}{\\strut to} \\colorbox{red!33.71151}{\\strut explain} \\colorbox{red!87.18903}{\\strut that} \\colorbox{red!77.29171}{\\strut to} \\colorbox{red!84.20761}{\\strut me} \\colorbox{red!40.84392}{\\strut while} \\colorbox{red!87.615074}{\\strut you} \\colorbox{red!0.0}{\\strut are} \\colorbox{red!27.664753}{\\strut at} \\colorbox{red!0.0}{\\strut it} \\colorbox{red!0.0}{\\strut .} \r\n",
      "}}}\r\n",
      "\\end{CJK*}\\end{document}"
     ]
    }
   ],
   "source": [
    "texts = [list(map(str, parent)), list(map(str, comment))]\n",
    "attns = [w[:len(parent), 0], w[:len(comment), 0]]\n",
    "colors = ['blue', 'red']\n",
    "\n",
    "generate(texts, attns, \"sample.tex\", colors, rescale_value=True)\n",
    "!cat sample.tex"
   ]
  },
  {
   "cell_type": "code",
   "execution_count": null,
   "metadata": {},
   "outputs": [],
   "source": []
  },
  {
   "cell_type": "code",
   "execution_count": null,
   "metadata": {},
   "outputs": [],
   "source": []
  },
  {
   "cell_type": "code",
   "execution_count": null,
   "metadata": {},
   "outputs": [],
   "source": []
  },
  {
   "cell_type": "code",
   "execution_count": null,
   "metadata": {},
   "outputs": [],
   "source": [
    "%%script false\n",
    "\n",
    "from allennlp.nn import util\n",
    "util.masked_softmax(self_attentive_logits, mask_tokens)\n",
    "util.weighted_sum(encoded_tokens, self_weights)"
   ]
  },
  {
   "cell_type": "code",
   "execution_count": 9,
   "metadata": {},
   "outputs": [
    {
     "ename": "ZeroDivisionError",
     "evalue": "division by zero",
     "output_type": "error",
     "traceback": [
      "\u001b[0;31m---------------------------------------------------------------------------\u001b[0m",
      "\u001b[0;31mZeroDivisionError\u001b[0m                         Traceback (most recent call last)",
      "\u001b[0;32m<ipython-input-9-9ab73e148374>\u001b[0m in \u001b[0;36m<module>\u001b[0;34m\u001b[0m\n\u001b[0;32m----> 1\u001b[0;31m \u001b[0;36m0\u001b[0m\u001b[0;34m/\u001b[0m\u001b[0;36m0\u001b[0m\u001b[0;34m\u001b[0m\u001b[0;34m\u001b[0m\u001b[0m\n\u001b[0m",
      "\u001b[0;31mZeroDivisionError\u001b[0m: division by zero"
     ]
    }
   ],
   "source": [
    "0/0"
   ]
  },
  {
   "cell_type": "code",
   "execution_count": null,
   "metadata": {
    "scrolled": true
   },
   "outputs": [],
   "source": [
    "xs = [{\"sentence\": t} for t in df.text.values[:16]]\n",
    "preds = model.predict_batch_json(xs)# [{\"sentence\": x}, {\"sentence\": x}])\n",
    "\n",
    "#predict(x)"
   ]
  },
  {
   "cell_type": "code",
   "execution_count": null,
   "metadata": {},
   "outputs": [],
   "source": []
  },
  {
   "cell_type": "code",
   "execution_count": null,
   "metadata": {},
   "outputs": [],
   "source": [
    "from entmax import sparsemax"
   ]
  },
  {
   "cell_type": "code",
   "execution_count": null,
   "metadata": {},
   "outputs": [],
   "source": [
    "read_unit.saved_attn[0][3].std()"
   ]
  },
  {
   "cell_type": "code",
   "execution_count": null,
   "metadata": {},
   "outputs": [],
   "source": [
    "[a.std() for a in ctrl_unit.saved_attn[0]]"
   ]
  },
  {
   "cell_type": "code",
   "execution_count": null,
   "metadata": {},
   "outputs": [],
   "source": [
    "import torch\n",
    "torch.cat(read_unit.saved_attn).shape"
   ]
  },
  {
   "cell_type": "code",
   "execution_count": null,
   "metadata": {},
   "outputs": [],
   "source": [
    "len(ctrl_attns.saved_attn[0])"
   ]
  },
  {
   "cell_type": "code",
   "execution_count": null,
   "metadata": {},
   "outputs": [],
   "source": []
  },
  {
   "cell_type": "code",
   "execution_count": null,
   "metadata": {},
   "outputs": [],
   "source": []
  },
  {
   "cell_type": "code",
   "execution_count": null,
   "metadata": {},
   "outputs": [],
   "source": []
  },
  {
   "cell_type": "code",
   "execution_count": null,
   "metadata": {},
   "outputs": [],
   "source": []
  },
  {
   "cell_type": "code",
   "execution_count": null,
   "metadata": {},
   "outputs": [],
   "source": []
  },
  {
   "cell_type": "code",
   "execution_count": null,
   "metadata": {},
   "outputs": [],
   "source": [
    "# read_unit.saved_attn[0][0]\n",
    "\n",
    "import itertools\n",
    "\n",
    "ctrl_attns = list(itertools.chain(*ctrl_unit.saved_attn))#.std()\n",
    "type(ctrl_attns)"
   ]
  },
  {
   "cell_type": "code",
   "execution_count": null,
   "metadata": {},
   "outputs": [],
   "source": []
  },
  {
   "cell_type": "code",
   "execution_count": null,
   "metadata": {},
   "outputs": [],
   "source": []
  }
 ],
 "metadata": {
  "kernelspec": {
   "display_name": "Python 3",
   "language": "python",
   "name": "python3"
  },
  "language_info": {
   "codemirror_mode": {
    "name": "ipython",
    "version": 3
   },
   "file_extension": ".py",
   "mimetype": "text/x-python",
   "name": "python",
   "nbconvert_exporter": "python",
   "pygments_lexer": "ipython3",
   "version": "3.7.4"
  }
 },
 "nbformat": 4,
 "nbformat_minor": 2
}
